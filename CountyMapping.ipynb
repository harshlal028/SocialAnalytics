{
 "cells": [
  {
   "cell_type": "code",
   "execution_count": 1,
   "metadata": {},
   "outputs": [],
   "source": [
    "import pickle\n",
    "import json\n",
    "import numpy as np\n",
    "import pandas as pd\n",
    "import math\n",
    "import urllib\n",
    "import requests\n",
    "\n",
    "from bokeh.plotting import figure, show, output_notebook\n",
    "from bokeh.tile_providers import CARTODBPOSITRON"
   ]
  },
  {
   "cell_type": "code",
   "execution_count": 2,
   "metadata": {},
   "outputs": [],
   "source": [
    "def fix_JSON(json_message=None):\n",
    "    '''This function fixes errors in the JSON if any and return a json dictionary'''\n",
    "    result = None\n",
    "    try:        \n",
    "        result = json.loads(json_message)\n",
    "    except Exception as e:      \n",
    "        # Find the offending character index:\n",
    "        e_message = str(e)\n",
    "        idx_to_replace = int(e_message.split(' ')[-1].replace(')',''))   \n",
    "        \n",
    "        #print(e_message,idx_to_replace)\n",
    "        # Remove the offending character:\n",
    "        json_message = list(json_message)\n",
    "        json_message[idx_to_replace] = ' '\n",
    "        new_message = ''.join(json_message)     \n",
    "        return fix_JSON(json_message=new_message)\n",
    "    return result"
   ]
  },
  {
   "cell_type": "code",
   "execution_count": 3,
   "metadata": {},
   "outputs": [],
   "source": [
    "def get_lat_long(bbox):\n",
    "    bbox = bbox['coordinates']\n",
    "    try:\n",
    "        bb = np.array(bbox[0])\n",
    "        lat = np.average(bb[:,0])\n",
    "        lon = np.average(bb[:,1])\n",
    "    except:\n",
    "        lat,lon = None,None\n",
    "    return lon,lat"
   ]
  },
  {
   "cell_type": "code",
   "execution_count": 4,
   "metadata": {},
   "outputs": [],
   "source": [
    "def get_location_data(x,y):\n",
    "    '''\n",
    "    This function gets the location details for a given x,y location\n",
    "    https://geocoding.geo.census.gov/geocoder/geographies/coordinates?x=-111.739979&y=33.381074&benchmark=Public_AR_Current&vintage=Current_Current&format=json\n",
    "    '''\n",
    "    #base_url = 'https://nominatim.openstreetmap.org/search.php?%s'\n",
    "    #search_term = {'format':'json','limit':1}\n",
    "    base_url = 'https://geocoding.geo.census.gov/geocoder/geographies/coordinates?%s'\n",
    "    search_term = {'format':'json','vintage':'Current_Current','benchmark':'Public_AR_Current'}\n",
    "    \n",
    "    search_term['x'] = x\n",
    "    search_term['y'] = y\n",
    "    url_args = urllib.parse.urlencode(search_term)\n",
    "    url = base_url%(url_args)\n",
    "    response = requests.get(url)\n",
    "    res = [{}]\n",
    "    if response.status_code != 200:\n",
    "        #Some error handling\n",
    "        print(\"Unable to fetch data from API, Reponse = \",response.status_code)\n",
    "    else:\n",
    "        try:\n",
    "            res = json.loads(response.content)\n",
    "        except Exception as e:\n",
    "            print(\"Error for content,\",e)\n",
    "    return res['result']"
   ]
  },
  {
   "cell_type": "markdown",
   "metadata": {},
   "source": [
    "## Processinf file : neighborhoods.json"
   ]
  },
  {
   "cell_type": "code",
   "execution_count": 5,
   "metadata": {},
   "outputs": [],
   "source": [
    "BASE_PATH = 'E:\\Datasets\\TWITTER_SOCG\\CONTROL\\%s'\n",
    "file_name = 'neighborhoods.json'\n",
    "file = BASE_PATH%(file_name)"
   ]
  },
  {
   "cell_type": "code",
   "execution_count": 8,
   "metadata": {},
   "outputs": [],
   "source": [
    "neigh = []"
   ]
  },
  {
   "cell_type": "code",
   "execution_count": 9,
   "metadata": {},
   "outputs": [],
   "source": [
    "with open(file) as f:\n",
    "    for line in f:\n",
    "        tmp_all = fix_JSON(line)\n",
    "        lat,lon = get_lat_long(tmp_all.get('bounding_box',None))\n",
    "        tmp_all['lat'] = lat\n",
    "        tmp_all['lon'] = lon\n",
    "        counties = get_location_data(lon,lat)\n",
    "        tmp_all.update(counties)\n",
    "        neigh.append(tmp_all)"
   ]
  },
  {
   "cell_type": "code",
   "execution_count": 11,
   "metadata": {},
   "outputs": [],
   "source": [
    "## Dumping location data\n",
    "with open(BASE_PATH%('neighborhoods.pkl'), 'wb') as handle:\n",
    "    pickle.dump(neigh, handle, protocol=pickle.HIGHEST_PROTOCOL)"
   ]
  },
  {
   "cell_type": "markdown",
   "metadata": {},
   "source": [
    "## Processing file : points.json"
   ]
  },
  {
   "cell_type": "code",
   "execution_count": 12,
   "metadata": {},
   "outputs": [],
   "source": [
    "file_name = 'points.json'\n",
    "file = BASE_PATH%(file_name)"
   ]
  },
  {
   "cell_type": "code",
   "execution_count": 13,
   "metadata": {},
   "outputs": [],
   "source": [
    "points = []"
   ]
  },
  {
   "cell_type": "code",
   "execution_count": 14,
   "metadata": {},
   "outputs": [],
   "source": [
    "with open(file) as f:\n",
    "    for line in f:\n",
    "        tmp_all = fix_JSON(line)\n",
    "        lat,lon = get_lat_long(tmp_all.get('bounding_box',None))\n",
    "        tmp_all['lat'] = lat\n",
    "        tmp_all['lon'] = lon\n",
    "        counties = get_location_data(lon,lat)\n",
    "        tmp_all.update(counties)\n",
    "        points.append(tmp_all)"
   ]
  },
  {
   "cell_type": "code",
   "execution_count": 15,
   "metadata": {},
   "outputs": [],
   "source": [
    "## Dumping location data\n",
    "with open(BASE_PATH%('points.pkl'), 'wb') as handle:\n",
    "    pickle.dump(points, handle, protocol=pickle.HIGHEST_PROTOCOL)"
   ]
  },
  {
   "cell_type": "markdown",
   "metadata": {},
   "source": [
    "## Processing : missing cities"
   ]
  },
  {
   "cell_type": "code",
   "execution_count": 17,
   "metadata": {},
   "outputs": [
    {
     "data": {
      "text/plain": [
       "{'attributes': {},\n",
       " 'bounding_box': {'coordinates': [[[-93.23625, 44.98042],\n",
       "    [-93.23625, 44.98042],\n",
       "    [-93.23625, 44.98042],\n",
       "    [-93.23625, 44.98042]]],\n",
       "  'type': 'Polygon'},\n",
       " 'contained_within': [],\n",
       " 'country': 'United States',\n",
       " 'country_code': 'US',\n",
       " 'full_name': 'Loring Bar & Restaurant',\n",
       " 'geographies': {'2010 Census Blocks': [{'AREALAND': 15790,\n",
       "    'AREAWATER': 0,\n",
       "    'BASENAME': '2005',\n",
       "    'BLKGRP': '2',\n",
       "    'BLOCK': '2005',\n",
       "    'CENTLAT': '+44.9802734',\n",
       "    'CENTLON': '-093.2368042',\n",
       "    'COUNTY': '053',\n",
       "    'FUNCSTAT': 'S',\n",
       "    'GEOID': '270531039002005',\n",
       "    'INTPTLAT': '+44.9802734',\n",
       "    'INTPTLON': '-093.2368042',\n",
       "    'LSADC': 'BK',\n",
       "    'LWBLKTYP': 'L',\n",
       "    'MTFCC': 'G5040',\n",
       "    'NAME': 'Block 2005',\n",
       "    'OBJECTID': 7084032,\n",
       "    'OID': 210404046013537,\n",
       "    'STATE': '27',\n",
       "    'STGEOMETRY.AREA': 31560.307,\n",
       "    'STGEOMETRY.LEN': 710.1859,\n",
       "    'SUFFIX': '',\n",
       "    'TRACT': '103900'}],\n",
       "  'Census Tracts': [{'AREALAND': 269683,\n",
       "    'AREAWATER': 0,\n",
       "    'BASENAME': '1039',\n",
       "    'CENTLAT': '+44.9826130',\n",
       "    'CENTLON': '-093.2350036',\n",
       "    'COUNTY': '053',\n",
       "    'FUNCSTAT': 'S',\n",
       "    'GEOID': '27053103900',\n",
       "    'INTPTLAT': '+44.9826130',\n",
       "    'INTPTLON': '-093.2350036',\n",
       "    'LSADC': 'CT',\n",
       "    'MTFCC': 'G5020',\n",
       "    'NAME': 'Census Tract 1039',\n",
       "    'OBJECTID': 67237,\n",
       "    'OID': 20790195541456,\n",
       "    'STATE': '27',\n",
       "    'STGEOMETRY.AREA': 539052.06,\n",
       "    'STGEOMETRY.LEN': 3114.221,\n",
       "    'TRACT': '103900'}],\n",
       "  'Counties': [{'AREALAND': 1434460091,\n",
       "    'AREAWATER': 136551913,\n",
       "    'BASENAME': 'Hennepin',\n",
       "    'CENTLAT': '+45.0044740',\n",
       "    'CENTLON': '-093.4767437',\n",
       "    'COUNTY': '053',\n",
       "    'COUNTYCC': 'H1',\n",
       "    'COUNTYNS': '00659472',\n",
       "    'FUNCSTAT': 'A',\n",
       "    'GEOID': '27053',\n",
       "    'INTPTLAT': '+45.0061209',\n",
       "    'INTPTLON': '-093.4752279',\n",
       "    'LSADC': '06',\n",
       "    'MTFCC': 'G4020',\n",
       "    'NAME': 'Hennepin County',\n",
       "    'OBJECTID': 2679,\n",
       "    'OID': 27590195421724,\n",
       "    'STATE': '27',\n",
       "    'STGEOMETRY.AREA': 3142580220.0,\n",
       "    'STGEOMETRY.LEN': 269517.56}],\n",
       "  'States': [{'AREALAND': 206230214817,\n",
       "    'AREAWATER': 18941748273,\n",
       "    'BASENAME': 'Minnesota',\n",
       "    'CENTLAT': '+46.3166538',\n",
       "    'CENTLON': '-094.1982706',\n",
       "    'DIVISION': '4',\n",
       "    'FUNCSTAT': 'A',\n",
       "    'GEOID': '27',\n",
       "    'INTPTLAT': '+46.3159573',\n",
       "    'INTPTLON': '-094.1996043',\n",
       "    'LSADC': '00',\n",
       "    'MTFCC': 'G4000',\n",
       "    'NAME': 'Minnesota',\n",
       "    'OBJECTID': 4,\n",
       "    'OID': 27490186175787,\n",
       "    'REGION': '2',\n",
       "    'STATE': '27',\n",
       "    'STATENS': '00662849',\n",
       "    'STGEOMETRY.AREA': 473201345000.0,\n",
       "    'STGEOMETRY.LEN': 4510956.0,\n",
       "    'STUSAB': 'MN'}]},\n",
       " 'id': '0ce294aa05d79000',\n",
       " 'input': {'benchmark': {'benchmarkDescription': 'Public Address Ranges - Current Benchmark',\n",
       "   'benchmarkName': 'Public_AR_Current',\n",
       "   'id': '4',\n",
       "   'isDefault': False},\n",
       "  'location': {'x': -93.23625, 'y': 44.98042},\n",
       "  'vintage': {'id': '4',\n",
       "   'isDefault': True,\n",
       "   'vintageDescription': 'Current Vintage - Current Benchmark',\n",
       "   'vintageName': 'Current_Current'}},\n",
       " 'lat': 44.98042,\n",
       " 'lon': -93.23625,\n",
       " 'name': 'Loring Bar & Restaurant',\n",
       " 'place_type': 'poi',\n",
       " 'url': 'https://api.twitter.com/1.1/geo/id/0ce294aa05d79000.json'}"
      ]
     },
     "execution_count": 17,
     "metadata": {},
     "output_type": "execute_result"
    }
   ],
   "source": [
    "points[0]"
   ]
  },
  {
   "cell_type": "code",
   "execution_count": 19,
   "metadata": {},
   "outputs": [],
   "source": [
    "## Dumping coordinate data\n",
    "with open(BASE_PATH%('missing_cities.pkl'), 'rb') as handle:\n",
    "    missing_cities_county = pickle.load(handle)"
   ]
  },
  {
   "cell_type": "code",
   "execution_count": 21,
   "metadata": {},
   "outputs": [],
   "source": [
    "for m in missing_cities_county:\n",
    "    m_city = missing_cities_county[m]\n",
    "    lat = m_city['lat']\n",
    "    lon = m_city['lon']\n",
    "    counties = get_location_data(lon,lat)\n",
    "    m_city.update(counties)"
   ]
  },
  {
   "cell_type": "code",
   "execution_count": 22,
   "metadata": {},
   "outputs": [],
   "source": [
    "## Dumping location data\n",
    "with open(BASE_PATH%('missing_cities_county.pkl'), 'wb') as handle:\n",
    "    pickle.dump(missing_cities_county, handle, protocol=pickle.HIGHEST_PROTOCOL)"
   ]
  }
 ],
 "metadata": {
  "kernelspec": {
   "display_name": "Python 3",
   "language": "python",
   "name": "python3"
  },
  "language_info": {
   "codemirror_mode": {
    "name": "ipython",
    "version": 3
   },
   "file_extension": ".py",
   "mimetype": "text/x-python",
   "name": "python",
   "nbconvert_exporter": "python",
   "pygments_lexer": "ipython3",
   "version": "3.6.4"
  }
 },
 "nbformat": 4,
 "nbformat_minor": 2
}
