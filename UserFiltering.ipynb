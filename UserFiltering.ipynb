{
 "cells": [
  {
   "cell_type": "code",
   "execution_count": 136,
   "metadata": {},
   "outputs": [],
   "source": [
    "import pickle\n",
    "import json\n",
    "import urllib\n",
    "import requests"
   ]
  },
  {
   "cell_type": "code",
   "execution_count": 2,
   "metadata": {},
   "outputs": [],
   "source": [
    "BASE_PATH = 'E:\\Datasets\\TWITTER_SOCG\\%s'\n",
    "file_name = 'filtered_loc148.json'\n",
    "file = BASE_PATH%(file_name)"
   ]
  },
  {
   "cell_type": "code",
   "execution_count": 113,
   "metadata": {},
   "outputs": [],
   "source": [
    "def get_location_data(location_name):\n",
    "    '''\n",
    "    This function gets the location details for a given text location\n",
    "    https://nominatim.openstreetmap.org/search.php?q=california&format=json&limit=1\n",
    "    '''\n",
    "    base_url = 'https://nominatim.openstreetmap.org/search.php?%s'\n",
    "    search_term = {'format':'json','limit':1}\n",
    "    search_term['q'] = location_name\n",
    "    url_args = urllib.parse.urlencode(search_term)\n",
    "    url = base_url%(url_args)\n",
    "    response = requests.get(url)\n",
    "    res = [{}]\n",
    "    if response.status_code != 200:\n",
    "        #Some error handling\n",
    "        print(\"Unable to fetch data from API, Reponse = \",response.status_code)\n",
    "    else:\n",
    "        try:\n",
    "            res = json.loads(response.content)\n",
    "        except Exception as e:\n",
    "            print(\"Error for content,\",e)\n",
    "    return res[0]"
   ]
  },
  {
   "cell_type": "code",
   "execution_count": 76,
   "metadata": {},
   "outputs": [],
   "source": [
    "def fix_JSON(json_message=None):\n",
    "    '''This function fixes errors in the JSON if any and return a json dictionary'''\n",
    "    result = None\n",
    "    try:        \n",
    "        result = json.loads(json_message)\n",
    "    except Exception as e:      \n",
    "        # Find the offending character index:\n",
    "        e_message = str(e)\n",
    "        idx_to_replace = int(e_message.split(' ')[-1].replace(')',''))   \n",
    "        \n",
    "        #print(e_message,idx_to_replace)\n",
    "        # Remove the offending character:\n",
    "        json_message = list(json_message)\n",
    "        json_message[idx_to_replace] = ' '\n",
    "        new_message = ''.join(json_message)     \n",
    "        return fix_JSON(json_message=new_message)\n",
    "    return result"
   ]
  },
  {
   "cell_type": "code",
   "execution_count": 140,
   "metadata": {},
   "outputs": [],
   "source": [
    "def data_filter(arg,params):\n",
    "    res = {}\n",
    "    for p in params:\n",
    "        res[p] = arg[p]\n",
    "    return res"
   ]
  },
  {
   "cell_type": "code",
   "execution_count": 70,
   "metadata": {},
   "outputs": [],
   "source": [
    "data = {}"
   ]
  },
  {
   "cell_type": "code",
   "execution_count": 77,
   "metadata": {},
   "outputs": [],
   "source": [
    "criteria = ['id','location','description','followers_count','friends_count'] #user filtering criteria"
   ]
  },
  {
   "cell_type": "code",
   "execution_count": 79,
   "metadata": {},
   "outputs": [],
   "source": [
    "## Filtering user data\n",
    "with open(file) as f:\n",
    "    for line in f:\n",
    "        tmp_all = fix_JSON(line)\n",
    "        user = tmp_all['user'] \n",
    "        data[user['id']] = data_filter(user,criteria)"
   ]
  },
  {
   "cell_type": "code",
   "execution_count": 139,
   "metadata": {},
   "outputs": [
    {
     "name": "stdout",
     "output_type": "stream",
     "text": [
      "SIZE of data =  18196\n"
     ]
    }
   ],
   "source": [
    "print(\"SIZE of data = \",len(data))"
   ]
  },
  {
   "cell_type": "code",
   "execution_count": 117,
   "metadata": {},
   "outputs": [],
   "source": [
    "locations = {}"
   ]
  },
  {
   "cell_type": "code",
   "execution_count": null,
   "metadata": {},
   "outputs": [],
   "source": [
    "## Getting all location name details\n",
    "for k,v in data.items():\n",
    "    if k not in locations:\n",
    "        location_name = v.get('location',None)\n",
    "        if location_name is not None:\n",
    "            locations[location_name] = get_location_data(location_name)"
   ]
  },
  {
   "cell_type": "code",
   "execution_count": 138,
   "metadata": {},
   "outputs": [],
   "source": [
    "## Dumping location data\n",
    "with open('location_by_user.pkl', 'wb') as handle:\n",
    "    pickle.dump(locations, handle, protocol=pickle.HIGHEST_PROTOCOL)"
   ]
  },
  {
   "cell_type": "code",
   "execution_count": 134,
   "metadata": {},
   "outputs": [],
   "source": [
    "## Generating data for plotting\n",
    "coord = []\n",
    "for k,v in locations.items():\n",
    "    if len(v) != 0:\n",
    "        coord.append((float(v[0]['lat']),float(v[0]['lon'])))"
   ]
  },
  {
   "cell_type": "code",
   "execution_count": 142,
   "metadata": {},
   "outputs": [],
   "source": [
    "## Dumping coordinate data\n",
    "with open('coord_user_1.pkl', 'wb') as handle:\n",
    "    pickle.dump(coord, handle, protocol=pickle.HIGHEST_PROTOCOL)"
   ]
  }
 ],
 "metadata": {
  "kernelspec": {
   "display_name": "Python 3",
   "language": "python",
   "name": "python3"
  },
  "language_info": {
   "codemirror_mode": {
    "name": "ipython",
    "version": 3
   },
   "file_extension": ".py",
   "mimetype": "text/x-python",
   "name": "python",
   "nbconvert_exporter": "python",
   "pygments_lexer": "ipython3",
   "version": "3.6.4"
  }
 },
 "nbformat": 4,
 "nbformat_minor": 2
}
